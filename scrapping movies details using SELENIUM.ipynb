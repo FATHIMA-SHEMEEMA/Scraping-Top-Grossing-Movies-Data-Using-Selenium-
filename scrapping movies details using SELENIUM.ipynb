{
 "cells": [
  {
   "cell_type": "markdown",
   "metadata": {},
   "source": [
    "# Scraping Top Grossing Movies Data using selenium"
   ]
  },
  {
   "cell_type": "code",
   "execution_count": 7,
   "metadata": {},
   "outputs": [],
   "source": [
    "from selenium import webdriver\n",
    "from selenium.webdriver.common.keys import Keys\n",
    "import pandas as pd\n",
    "from time import sleep\n",
    "\n",
    "\n",
    "from selenium.common.exceptions import NoSuchElementException\n",
    "from webdriver_manager.chrome import ChromeDriverManager"
   ]
  },
  {
   "cell_type": "code",
   "execution_count": 8,
   "metadata": {},
   "outputs": [
    {
     "name": "stderr",
     "output_type": "stream",
     "text": [
      "\n",
      "\n",
      "====== WebDriver manager ======\n",
      "Current google-chrome version is 101.0.4951\n",
      "Get LATEST chromedriver version for 101.0.4951 google-chrome\n",
      "Driver [C:\\Users\\FATHIMA SHEMEEMA\\.wdm\\drivers\\chromedriver\\win32\\101.0.4951.41\\chromedriver.exe] found in cache\n",
      "<ipython-input-8-c026f0c15647>:1: DeprecationWarning: executable_path has been deprecated, please pass in a Service object\n",
      "  driver = webdriver.Chrome(ChromeDriverManager().install())\n"
     ]
    }
   ],
   "source": [
    "driver = webdriver.Chrome(ChromeDriverManager().install())\n"
   ]
  },
  {
   "cell_type": "code",
   "execution_count": 9,
   "metadata": {},
   "outputs": [],
   "source": [
    "driver.get('https://www.boxofficemojo.com/chart/top_lifetime_gross/?area=XWW')"
   ]
  },
  {
   "cell_type": "code",
   "execution_count": 10,
   "metadata": {},
   "outputs": [
    {
     "name": "stderr",
     "output_type": "stream",
     "text": [
      "<ipython-input-10-f6c5403255f2>:2: DeprecationWarning: find_elements_by_* commands are deprecated. Please use find_elements() instead\n",
      "  movies_names = driver.find_elements_by_xpath('//td[@class=\"a-text-left mojo-field-type-title\"]/a[@class=\"a-link-normal\"]')  ## targets all the elements on the web that has same Xpath\n"
     ]
    }
   ],
   "source": [
    "## Scraping Movie Names\n",
    "movies_names = driver.find_elements_by_xpath('//td[@class=\"a-text-left mojo-field-type-title\"]/a[@class=\"a-link-normal\"]')  ## targets all the elements on the web that has same Xpath\n",
    "movie_name_list = []                                                                                                        ## an empty list for storing movie names\n",
    "for movie in range(len(movies_names)):                                                                                      ## a loop that runs until the length of movies_name list\n",
    "    movie_name_list.append(movies_names[movie].text)                                                                        ## extracting text from the movie name and appending it on the movies name list\n",
    "#print(movie_name_list)\n"
   ]
  },
  {
   "cell_type": "code",
   "execution_count": 11,
   "metadata": {},
   "outputs": [
    {
     "name": "stderr",
     "output_type": "stream",
     "text": [
      "<ipython-input-11-79dd4dffc75a>:2: DeprecationWarning: find_elements_by_* commands are deprecated. Please use find_elements() instead\n",
      "  lifetime_gross = driver.find_elements_by_xpath('//td[@class=\"a-text-right mojo-field-type-money\"]')\n"
     ]
    }
   ],
   "source": [
    "## Scraping Movies Lifetime Grossings\n",
    "lifetime_gross = driver.find_elements_by_xpath('//td[@class=\"a-text-right mojo-field-type-money\"]') \n",
    "lifetime_gross_list = []\n",
    "for i in range(len(lifetime_gross)):\n",
    "    lifetime_gross_list.append(lifetime_gross[i].text)\n",
    "#print(lifetime_gross_list)\n"
   ]
  },
  {
   "cell_type": "code",
   "execution_count": 12,
   "metadata": {},
   "outputs": [
    {
     "name": "stderr",
     "output_type": "stream",
     "text": [
      "<ipython-input-12-2191167443e1>:2: DeprecationWarning: find_elements_by_* commands are deprecated. Please use find_elements() instead\n",
      "  release_year = driver.find_elements_by_xpath('//td[@class=\"a-text-left mojo-field-type-year\"]/a[@class=\"a-link-normal\"]')\n"
     ]
    }
   ],
   "source": [
    "## Scraping Movies Release Date\n",
    "release_year = driver.find_elements_by_xpath('//td[@class=\"a-text-left mojo-field-type-year\"]/a[@class=\"a-link-normal\"]')\n",
    "release_year_list = []\n",
    "for year in range(len(release_year)):\n",
    "    release_year_list.append(release_year[year].text)\n",
    "#print(release_year_list)\n"
   ]
  },
  {
   "cell_type": "code",
   "execution_count": 13,
   "metadata": {},
   "outputs": [],
   "source": [
    "\n",
    "data =list( zip(movie_name_list, release_year_list, lifetime_gross_list))\n",
    "df = pd.DataFrame(data,columns=['Movie Name', 'Release Date','Lifetime Earnings'])\n",
    "                 ## dataset name ## columns names"
   ]
  },
  {
   "cell_type": "code",
   "execution_count": 14,
   "metadata": {},
   "outputs": [],
   "source": [
    "df.to_csv('top_200_movies_with_lifetime_gross.csv',index=False)"
   ]
  },
  {
   "cell_type": "code",
   "execution_count": null,
   "metadata": {},
   "outputs": [],
   "source": []
  }
 ],
 "metadata": {
  "kernelspec": {
   "display_name": "Python 3",
   "language": "python",
   "name": "python3"
  },
  "language_info": {
   "codemirror_mode": {
    "name": "ipython",
    "version": 3
   },
   "file_extension": ".py",
   "mimetype": "text/x-python",
   "name": "python",
   "nbconvert_exporter": "python",
   "pygments_lexer": "ipython3",
   "version": "3.8.5"
  }
 },
 "nbformat": 4,
 "nbformat_minor": 4
}
